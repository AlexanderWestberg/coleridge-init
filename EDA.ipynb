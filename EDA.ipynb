{
 "cells": [
  {
   "cell_type": "code",
   "execution_count": 1,
   "id": "dressed-drove",
   "metadata": {},
   "outputs": [],
   "source": [
    "import pandas as pd"
   ]
  },
  {
   "cell_type": "code",
   "execution_count": 76,
   "id": "considered-baseline",
   "metadata": {},
   "outputs": [
    {
     "data": {
      "text/html": [
       "<div>\n",
       "<style scoped>\n",
       "    .dataframe tbody tr th:only-of-type {\n",
       "        vertical-align: middle;\n",
       "    }\n",
       "\n",
       "    .dataframe tbody tr th {\n",
       "        vertical-align: top;\n",
       "    }\n",
       "\n",
       "    .dataframe thead th {\n",
       "        text-align: right;\n",
       "    }\n",
       "</style>\n",
       "<table border=\"1\" class=\"dataframe\">\n",
       "  <thead>\n",
       "    <tr style=\"text-align: right;\">\n",
       "      <th></th>\n",
       "      <th>Id</th>\n",
       "      <th>pub_title</th>\n",
       "      <th>dataset_title</th>\n",
       "      <th>dataset_label</th>\n",
       "      <th>cleaned_label</th>\n",
       "    </tr>\n",
       "  </thead>\n",
       "  <tbody>\n",
       "    <tr>\n",
       "      <th>0</th>\n",
       "      <td>d0fa7568-7d8e-4db9-870f-f9c6f668c17b</td>\n",
       "      <td>The Impact of Dual Enrollment on College Degre...</td>\n",
       "      <td>National Education Longitudinal Study</td>\n",
       "      <td>National Education Longitudinal Study</td>\n",
       "      <td>national education longitudinal study</td>\n",
       "    </tr>\n",
       "    <tr>\n",
       "      <th>1</th>\n",
       "      <td>2f26f645-3dec-485d-b68d-f013c9e05e60</td>\n",
       "      <td>Educational Attainment of High School Dropouts...</td>\n",
       "      <td>National Education Longitudinal Study</td>\n",
       "      <td>National Education Longitudinal Study</td>\n",
       "      <td>national education longitudinal study</td>\n",
       "    </tr>\n",
       "    <tr>\n",
       "      <th>2</th>\n",
       "      <td>c5d5cd2c-59de-4f29-bbb1-6a88c7b52f29</td>\n",
       "      <td>Differences in Outcomes for Female and Male St...</td>\n",
       "      <td>National Education Longitudinal Study</td>\n",
       "      <td>National Education Longitudinal Study</td>\n",
       "      <td>national education longitudinal study</td>\n",
       "    </tr>\n",
       "    <tr>\n",
       "      <th>3</th>\n",
       "      <td>5c9a3bc9-41ba-4574-ad71-e25c1442c8af</td>\n",
       "      <td>Stepping Stone and Option Value in a Model of ...</td>\n",
       "      <td>National Education Longitudinal Study</td>\n",
       "      <td>National Education Longitudinal Study</td>\n",
       "      <td>national education longitudinal study</td>\n",
       "    </tr>\n",
       "    <tr>\n",
       "      <th>4</th>\n",
       "      <td>c754dec7-c5a3-4337-9892-c02158475064</td>\n",
       "      <td>Parental Effort, School Resources, and Student...</td>\n",
       "      <td>National Education Longitudinal Study</td>\n",
       "      <td>National Education Longitudinal Study</td>\n",
       "      <td>national education longitudinal study</td>\n",
       "    </tr>\n",
       "  </tbody>\n",
       "</table>\n",
       "</div>"
      ],
      "text/plain": [
       "                                     Id  \\\n",
       "0  d0fa7568-7d8e-4db9-870f-f9c6f668c17b   \n",
       "1  2f26f645-3dec-485d-b68d-f013c9e05e60   \n",
       "2  c5d5cd2c-59de-4f29-bbb1-6a88c7b52f29   \n",
       "3  5c9a3bc9-41ba-4574-ad71-e25c1442c8af   \n",
       "4  c754dec7-c5a3-4337-9892-c02158475064   \n",
       "\n",
       "                                           pub_title  \\\n",
       "0  The Impact of Dual Enrollment on College Degre...   \n",
       "1  Educational Attainment of High School Dropouts...   \n",
       "2  Differences in Outcomes for Female and Male St...   \n",
       "3  Stepping Stone and Option Value in a Model of ...   \n",
       "4  Parental Effort, School Resources, and Student...   \n",
       "\n",
       "                           dataset_title  \\\n",
       "0  National Education Longitudinal Study   \n",
       "1  National Education Longitudinal Study   \n",
       "2  National Education Longitudinal Study   \n",
       "3  National Education Longitudinal Study   \n",
       "4  National Education Longitudinal Study   \n",
       "\n",
       "                           dataset_label  \\\n",
       "0  National Education Longitudinal Study   \n",
       "1  National Education Longitudinal Study   \n",
       "2  National Education Longitudinal Study   \n",
       "3  National Education Longitudinal Study   \n",
       "4  National Education Longitudinal Study   \n",
       "\n",
       "                           cleaned_label  \n",
       "0  national education longitudinal study  \n",
       "1  national education longitudinal study  \n",
       "2  national education longitudinal study  \n",
       "3  national education longitudinal study  \n",
       "4  national education longitudinal study  "
      ]
     },
     "execution_count": 76,
     "metadata": {},
     "output_type": "execute_result"
    }
   ],
   "source": [
    "train = pd.read_csv(\"train.csv\")\n",
    "train.head()"
   ]
  },
  {
   "cell_type": "code",
   "execution_count": 77,
   "id": "gross-arthritis",
   "metadata": {},
   "outputs": [
    {
     "data": {
      "text/html": [
       "<div>\n",
       "<style scoped>\n",
       "    .dataframe tbody tr th:only-of-type {\n",
       "        vertical-align: middle;\n",
       "    }\n",
       "\n",
       "    .dataframe tbody tr th {\n",
       "        vertical-align: top;\n",
       "    }\n",
       "\n",
       "    .dataframe thead th {\n",
       "        text-align: right;\n",
       "    }\n",
       "</style>\n",
       "<table border=\"1\" class=\"dataframe\">\n",
       "  <thead>\n",
       "    <tr style=\"text-align: right;\">\n",
       "      <th></th>\n",
       "      <th>Id</th>\n",
       "      <th>PredictionString</th>\n",
       "    </tr>\n",
       "  </thead>\n",
       "  <tbody>\n",
       "    <tr>\n",
       "      <th>0</th>\n",
       "      <td>2100032a-7c33-4bff-97ef-690822c43466</td>\n",
       "      <td>NaN</td>\n",
       "    </tr>\n",
       "    <tr>\n",
       "      <th>1</th>\n",
       "      <td>2f392438-e215-4169-bebf-21ac4ff253e1</td>\n",
       "      <td>NaN</td>\n",
       "    </tr>\n",
       "    <tr>\n",
       "      <th>2</th>\n",
       "      <td>3f316b38-1a24-45a9-8d8c-4e05a42257c6</td>\n",
       "      <td>NaN</td>\n",
       "    </tr>\n",
       "    <tr>\n",
       "      <th>3</th>\n",
       "      <td>8e6996b4-ca08-4c0b-bed2-aaf07a4c6a60</td>\n",
       "      <td>NaN</td>\n",
       "    </tr>\n",
       "  </tbody>\n",
       "</table>\n",
       "</div>"
      ],
      "text/plain": [
       "                                     Id  PredictionString\n",
       "0  2100032a-7c33-4bff-97ef-690822c43466               NaN\n",
       "1  2f392438-e215-4169-bebf-21ac4ff253e1               NaN\n",
       "2  3f316b38-1a24-45a9-8d8c-4e05a42257c6               NaN\n",
       "3  8e6996b4-ca08-4c0b-bed2-aaf07a4c6a60               NaN"
      ]
     },
     "execution_count": 77,
     "metadata": {},
     "output_type": "execute_result"
    }
   ],
   "source": [
    "test = pd.read_csv(\"sample_submission.csv\")\n",
    "test.head()"
   ]
  },
  {
   "cell_type": "code",
   "execution_count": 74,
   "id": "victorian-eclipse",
   "metadata": {},
   "outputs": [
    {
     "name": "stdout",
     "output_type": "stream",
     "text": [
      "Numer of unique Publications title: dataset_title    45\n",
      "dtype: int64 \n",
      "\n",
      "\n",
      "The list of commonality of datasets: \n",
      "\n",
      "dataset_title                                                                              \n",
      "Alzheimer's Disease Neuroimaging Initiative (ADNI)                                             6144\n",
      "Baltimore Longitudinal Study of Aging (BLSA)                                                   1589\n",
      "Trends in International Mathematics and Science Study                                          1163\n",
      "Early Childhood Longitudinal Study                                                             1011\n",
      "SARS-CoV-2 genome sequence                                                                      860\n",
      "Census of Agriculture                                                                           743\n",
      "Education Longitudinal Study                                                                    676\n",
      "Agricultural Resource Management Survey                                                         660\n",
      "North American Breeding Bird Survey (BBS)                                                       585\n",
      "National Education Longitudinal Study                                                           550\n",
      "Survey of Earned Doctorates                                                                     509\n",
      "Rural-Urban Continuum Codes                                                                     490\n",
      "Beginning Postsecondary Student                                                                 461\n",
      "NOAA Tide Gauge                                                                                 441\n",
      "International Best Track Archive for Climate Stewardship                                        386\n",
      "Common Core of Data                                                                             368\n",
      "World Ocean Database                                                                            326\n",
      "Coastal Change Analysis Program                                                                 326\n",
      "Sea, Lake, and Overland Surges from Hurricanes                                                  312\n",
      "Survey of Doctorate Recipients                                                                  309\n",
      "Baccalaureate and Beyond                                                                        306\n",
      "Optimum Interpolation Sea Surface Temperature                                                   288\n",
      "Our World in Data COVID-19 dataset                                                              223\n",
      "COVID-19 Open Research Dataset (CORD-19)                                                        185\n",
      "National Assessment of Education Progress                                                       132\n",
      "Survey of Industrial Research and Development                                                   104\n",
      "High School Longitudinal Study                                                                   92\n",
      "Survey of Graduate Students and Postdoctorates in Science and Engineering                        85\n",
      "Program for the International Assessment of Adult Competencies                                   65\n",
      "School Survey on Crime and Safety                                                                44\n",
      "COVID-19 Image Data Collection                                                                   38\n",
      "Higher Education Research and Development Survey                                                 34\n",
      "National Teacher and Principal Survey                                                            30\n",
      "Advanced National Seismic System (ANSS) Comprehensive Catalog (ComCat)                           29\n",
      "COVID-19 Deaths data                                                                             28\n",
      "The National Institute on Aging Genetics of Alzheimer's Disease Data Storage Site (NIAGADS)      22\n",
      "Survey of Science and Engineering Research Facilities                                            13\n",
      "Characterizing Health Associated Risks, and Your Baseline Disease In SARS-COV-2 (CHARYBDIS)      10\n",
      "Complexity Science Hub COVID-19 Control Strategies List (CCCSL)                                   6\n",
      "CAS COVID-19 antiviral candidate compounds dataset                                                4\n",
      "RSNA International COVID-19 Open Radiology Database (RICORD)                                      4\n",
      "Aging Integrated Database (AGID)                                                                  3\n",
      "FFRDC Research and Development Survey                                                             3\n",
      "COVID-19 Precision Medicine Analytics Platform Registry (JH-CROWN)                                2\n",
      "Survey of State Government Research and Development                                               2\n",
      "dtype: int64\n"
     ]
    }
   ],
   "source": [
    "print(\"Numer of unique Publications title: {} \\n\\n\".format(train.iloc[:, [2]].nunique()))\n",
    "print(\"The list of commonality of datasets: \\n\")\n",
    "print(train.iloc[:, [2]].value_counts())"
   ]
  },
  {
   "cell_type": "code",
   "execution_count": 124,
   "id": "normal-arena",
   "metadata": {},
   "outputs": [
    {
     "name": "stdout",
     "output_type": "stream",
     "text": [
      "Alzheimer's Disease Neuroimaging Initiative (ADNI)\n",
      "Alzheimers Disease Neuroimaging Initiative\n",
      "alzheimers disease neuroimaging initiative\n"
     ]
    }
   ],
   "source": [
    "print(train.iloc[500, 2]) # This is the full name of the datasets\n",
    "print(train.iloc[500, 3]) # This is a reduced named of the dataset\n",
    "print(train.iloc[500, 4]) # This is a cleaned named of the reduced dataset, for the purpose of easier classifications"
   ]
  },
  {
   "cell_type": "code",
   "execution_count": 142,
   "id": "brief-hypothetical",
   "metadata": {},
   "outputs": [
    {
     "name": "stdout",
     "output_type": "stream",
     "text": [
      "0.27% of the publications refers to more then one dataset \n"
     ]
    }
   ],
   "source": [
    "print(\"{}% of the publications refers to more then one dataset \".format(round(1 - train.iloc[:, 0].nunique() / train.iloc[:, 0].count(), 2)))"
   ]
  },
  {
   "cell_type": "code",
   "execution_count": 100,
   "id": "returning-reduction",
   "metadata": {},
   "outputs": [
    {
     "name": "stdout",
     "output_type": "stream",
     "text": [
      "Number of publications: 14316\n"
     ]
    }
   ],
   "source": [
    "print(\"Number of publications: {}\".format(train.iloc[:, 0].nunique()))"
   ]
  },
  {
   "cell_type": "code",
   "execution_count": null,
   "id": "received-spotlight",
   "metadata": {},
   "outputs": [],
   "source": [
    "'''\n",
    "A natural question now arizes, statistically, where in the publicactions are datasets most common refered to? \n",
    "I.e.: \n",
    "\n",
    "- Abstact\n",
    "- Intro\n",
    "- Body\n",
    "- Results\n",
    "- Discussions\n",
    "\n",
    "\n",
    "Although, the publications don't have a good common structure, that is mentioned above.\n",
    "Instead of using the names of the paragraghs, maybe it would be better to just enumerate the paragrapgs \n",
    "to see where the dataset is mentiond. Altough one problem is that it may be hard to identify specifically in which paragrapgs\n",
    "it is mentioned in. But we can try.\n",
    "\n",
    "'''"
   ]
  },
  {
   "cell_type": "code",
   "execution_count": 133,
   "id": "middle-people",
   "metadata": {},
   "outputs": [
    {
     "name": "stdout",
     "output_type": "stream",
     "text": [
      "[{'section_title': 'Abstract', 'text': \"The aim of this study was to identify if acquiring ICT skills through DOT Lebanon's ICT training program (a local NGO) improved income generation opportunities after 3-months of completing the training. The target population was the NGO's vulnerable young beneficiaries. This study was completed in an effort to find creative and digital solutions to the high rate of youth unemployment in Lebanon (37%), one of the highest rates in the world. Results showed that 48% of beneficiaries who were unemployed at baseline, were exposed to at least one income generation opportunity 3 months after completing the DOT Lebanon training. Also, 49% of beneficiaries who were already employed at baseline were exposed to at least one income generation opportunity. Gender, English proficiency and governorate were variables that were found to be statistically significant. Males were more likely than females to be exposed to income generation opportunities. Those who knew little English had better chances than those who had no English proficiency. Beneficiaries living in the capital Beirut were more likely than others to be exposed to income generation opportunities.\"}, {'section_title': 'Introduction', 'text': 'The spur of ICT (Information and Communication Technologies) innovations in the twenty-first century has massively disrupted economies and business models (Christensen, 2013; Tohmatsu, 2012) . Millions of jobs face a high probability of being replaced because computers and the internet are reshaping the labor market (Oliver, 2015) . In the framework of globalization, digital skills are now considered preliminary for securing professional employment across the globe (Pirzada & Khan, 2013) . Consequently, many employers across a wide range of sectors are increasingly viewing ICT skills as an important component of employability (Belt & Richardson, 2005; Johnson & Burden, 2003) . The omnipresence of computing has made digital literacy increasingly critical to success in any occupation (Murray & Pérez, 2014) . In fact, organizations are now identifying digital skills or computer literacy as one of their core values for employability (such as the US Department of Education, the US Department of commerce, the OECD Program for the International Assessment of Adult Competencies and the European Commission).\\nIn particular, in developing countries, digital skills are estimated to reduce poverty levels and increase employment rates (Bennett, Maton, & Kervin, 2008) . ICT competence can bring significant benefits to marginalized groups, allowing these groups to participate more fully in society as it improves employment opportunities, overcomes isolation, builds confidence and leads to further learning (Bunker, 2010) . It\"s not a surprise that Digital Literacy has been deemed an essential life skill (Europea, 2008) . Individuals\" digital engagement has direct implications on their academic performance, labor market success and entrepreneurship uptakes. Those who function better in the digital realm and participate more fully in digitally mediated life enjoy advantages over their digitally disadvantaged counterparts (Robinson et al., 2015) . ICT have become central to every economy and to people\"s quality of life in every society (Olatoye, 2011) .\\nNevertheless, a new form of inequality is emerging, adding to all the existing forms of discrimination (Hilbert, 2011) . Concerns are being raised that the digital divide is leaving behind those most in need of assistance (Greig, 2004) . It is feared that as the role of ICT continues to expand, the exclusion experienced by disadvantaged groups may be accentuated and reinforced, rather than mitigated (Corrigan & Joyce, 2000) . Discussions about digital divides typically refer to socio-economic disparities in accessibility and usage of ICT. The use of such technologies result in several beneficial outcomes while the non-use of such technologies excludes people from full participation in contemporary society (Helsper, Deursen, & Eynon, 2015) . Many studies have established that basic access to digital resources and the skills to effectively use them still escape many economically disadvantaged or traditionally underrepresented portions of the population (Witte & Mannon, 2010) . Thus, digital inequalities can reinforce and exacerbate existing social inequalities (DiMaggio & Garip, 2012) . Further interventions are needed to ensure that the unqualified, the low skilled, the long-term unemployed and those on low incomes are enabled to reap the benefits of new services and opportunities for job seeking through ICT (Lindsay, 2005) .'}, {'section_title': 'English and ICT', 'text': 'Studies continue to show that primary language is among the variables associated with disparities in access to and use of technology (Fox & Livingston, 2007) and that the lack of or low proficiency in English can hinder digital literacy and digital use. Jarvis and Achilleos (2013) reported that English language acquirers use the Internet a great deal, and much of this use is in English. This is true for both social and informational use of English. 73% of Arabic Speakers who were surveyed agreed with the statement \"I use English to communicate online with friends from other countries\". Their research confirmed that there is an impressive amount of English use on the internet for a wide range of services even for those with lower English proficiency. Furthermore, the British Council reports that over 2/3 of the world\"s scientists read in English, 3/4 of the world\"s mail is written in English, 80% of the world\"s electronically stored information is in English and, of the estimated 200 million users of the Internet, some 36% communicate in English (Gunderson, Odo, & D\"Silva, 2011) . English can be seen as the leading language in the digital realm (Kornai, 2013) . According to Ghasemi and Hashemi (2011) ICT helps English language learners in a number of areas including communication, cognitive skills, creativity and independence. Consequently, it could be determined that low proficiency in English could play a negative role in acquiring digital skills, understanding information via internet and accessing job opportunities. UNDP\"s latest labor needs assessment for Lebanon (UNDP, 2016) found that within the ICT sector, weak language and communication skills (in English) serve as a barrier to learning, research and development. One of its recommendations was to invest in language (English) training schemes especially that over 43% of professionals working in the ICT sector were found to have significant weaknesses in \"communicating in spoken and written English well enough to be understood by others\" (UNDP, 2016).'}, {'section_title': 'Lebanon', 'text': 'Lebanon is a small country situated in the Middle East on the Eastern shores of the Mediterranean Sea. Its official language is Arabic. In the 1970s, various tensions inherent to the Lebanese system and multiple regional developments contributed to the breakdown of governmental authority and the outbreak of civil war in 1975 (Khalidi, 1979; Salibi, 1976) which ended with the Taif agreement in 1990. Even after the signature of this peace agreement which ended a 15-year civil war, Lebanon remains a troubled country (Ghosn & Khoury, 2011) due to internal and regional instabilities. In 2011, the eruption of the Syrian crisis had a devastating impact on Lebanon. The sudden influx of refugees highlighted existing economic and social troubles and made Lebanon the country with the most refugees per capita in the world (UNHCR, 2016) . Following decades of conflict and ongoing political turmoil, the additional pressure on Lebanon\"s weak infrastructure, fragile political and religious composition, and unfavorable economic and employment conditions have shown to be destabilizing. At a national poverty rate of 27.4 (World Bank, 2019) and 37% youth unemployment rate (Brihi, Takieddine, & Zmeter, 2019) Lebanon is already among the countries with the highest youth unemployment in the world (World Bank, 2019). The sharp upsurge in the number of individuals seeking low wage jobs has not only increased economic competition but also deepened the tension between the Syrian population and host communities. Unskilled youth struggle to find employment in the crowded labor market (Lebanon Crisis Response Plan (LCRP), 2019).'}, {'section_title': 'Gender Inequality in Lebanon', 'text': 'Lebanese women are in a constant battle with a male-dominated culture and many are not able to escape a poor quality of life due to their vulnerable economic position. With an overall 25% unemployment rate nationwide (Brihi et al., 2019) women specifically are not being successful in finding suitable, relevant, equitable, and flexible jobs, and many have not been trained for a career and equipped with the basic ICT and 21st century skills.\\nWithin 142 surveyed nations, Lebanon ranks 135th on the Gender Gap Index, which makes it the eighth worst country for gender equality. According to UNICEF (2011) Lebanese women aged between 15 and 24 record a low economic participation with a labor force participation rate equal to 22%, while the corresponding percentage for young men is almost double with a rate of 42%. The Central Administration of Statistics in Lebanon reported that 77.2% of Lebanese women of working age are not economically active (unemployed and not looking for a job) compared to 27.2% for men. Globally, the labor force participation rate of women is 52%, indicating an urgent need to intervene and increase women\"s economic participation in income generating activities within the Lebanese Society.'}, {'section_title': \"Lebanon's ICT Sector\", 'text': 'While a number of Arab governments have adopted digital literacy programs such as Egypt, Jordan, the UAE, Kuwait, Saudi Arabia and Oman (Bunker, 2010) Lebanon has yet to overcome public negligence and corruption in the ICT sector, hindering its growth far more than expected (Chami & Mikhael, 2016) . The low quality and poor coverage of infrastructure coupled with high costs have created limitations for the exponential advancement of Lebanon\"s ICT market (Soueid, Ghanem, & Nehme, 2015) . Furthermore, the low quality of vocational ICT trainings discourages firms from hiring young fresh graduates (UNDP, 2016) . According to a study completed by UNDP (2016) 96% of semi-skilled workers in the Agro-food industry suffer from basic ICT skills weaknesses, 89.6% in the construction industry and 26.2% of professional staff in the ICT industry show weaknesses in selecting and using tools & technology. These high percentages confirm the need for interventions to improve ICT skills across a variety of sectors in Lebanon, especially that it has been established by now that initiatives aiming at increasing digital literacy in developing countries have the capacity to produce economic, health, and quality of life benefits (Venkatesh & Sykes, 2013) .'}, {'section_title': 'DOT Lebanon ICT Training Program', 'text': 'DOT Lebanon is a registered local Lebanese NGO reporting to a local Lebanese board and also reporting to its affiliate organization DOT Canada based in Ontario. DOT Lebanon supports vulnerable youth and women to lead change in the communities they serve, transforming them into daring social innovators who have the tools, knowledge, and networks to create opportunities. Its model is based on a movement: encouraging a youth-led, grassroots approach to social innovation and community transformation, and ushering in a new era of sustainability, scale, and transformative change. DOT Lebanon\"s vision intends to support youth and women to become social innovators and leaders, and to create and apply digital solutions that have a positive impact in their communities. The core expertise of DOT Lebanon has been working with youth and women nationwide for more than 10 years, providing them with digital and entrepreneurial skills to help them improve the quality of their lives.\\nThe subject of this study was one of DOT Lebanon\"s programs: Digital Media Literacy Program (DML), a 2-level digital youth training program delivered in 14 different centers across Lebanon. The program was developed with the aim of providing under-privileged youth with digital skills to increase their access to income generating opportunities. The program is offered to all applicants regardless of their nationality or status (nationals, refugees, migrants, no legal status, etc.).\\nThe skills targeted by DOT Lebanon\"s ICT training are based around those skills that an individual would need to use ICT effectively and complete the tasks they wish to undertake. These would include:\\n• Basic skills for personal and business communications (e-mail and internet usage).\\n• Skills related to using the computer (logging on, locating files, opening applications and uploading and saving files). • Skills related to using basic word processing, spreadsheet and other common applications.\\n• Advanced skills within applications (which may allow the user to undertake more complex tasks).\\n• Knowledge around how computers and the internet operate, which is critical to allow the individual to be able to use the technology in a confident and secure manner. The aim of this study was to identify if acquiring ICT skills through DOT Lebanon\"s ICT training program improved income generation opportunities after 3-months, for DOT Lebanon\"s beneficiaries enrolled in the training from February 2018 till September 2018.'}, {'section_title': 'Methodology', 'text': ''}, {'section_title': 'Study Design', 'text': 'This is a prospective cohort study describing being exposed to at least 1 income generation opportunity after 3-months from completion of DOT Lebanon\"s ICT training. Income generation opportunity is defined as:\\n• Being called for an interview (online, in person or through a recruiter), or • Completing an internship, or • Creating/using a technology platform to generate income (website, mobile app, blog, software, Social Media).\\nParticipants chosen for this study were above 18 years old (labor law in Lebanon sets the eligibility age for work at 18 years) who have completed DOT Lebanon ICT training.'}, {'section_title': 'Study Procedure', 'text': 'Upon registering in the training, participants filled the DOT Lebanon registration form that included basic demographic information (gender, age category, nationality, address and educational level). Participants were informed that a follow-up text message (sms) and email including a link for the questionnaire, with reminders sent weekly for 4 weeks, will be sent at 3-months from completion of the course. Oral consent was obtained from participants. All participants who completed their course by September 2018 were contacted.'}, {'section_title': 'Data Analysis and Statistics', 'text': 'Data was analyzed using Statistical Package for the Social Sciences (SPSS) © version 20. Demographic and cohort characteristics were reported and then analyzed at bivariate level with the main outcome. In addition, logistic regression analysis for covariates that exhibited a p-value<0.2 with the main outcome were tested to explore the variables that impacted the outcome in an overall model. Levels of significance were set at p <0.05.'}, {'section_title': 'Limitations', 'text': 'A limitation that arises with a longitudinal study is the loss of participants over time. The total sample of respondents was satisfactory but not optimal even though regular reminders were sent. The logistical and financial needs to track individuals over time was costly and time consuming. Thus the generalizability of this study could be hindered. However, the short period of recall of only 3-months would have reduced the effect of recall bias.'}, {'section_title': 'Results', 'text': 'The response rate for this follow-up study was 43.2%. At the 3-month mark, questionnaires were sent out to 637 beneficiaries who had successfully completed the DOT Lebanon training. 275 complete responses were received. The researchers consider the above response rate adequate, especially that studies conducted in Lebanon using similar methods of surveys yield a wide range of response rates varying from 17% to 56.3 % (Aboujaoude, Nona, Koran, & Large, 2006; Awada, Diab, & Faour, 2018; UNDP, 2018) .\\nMost of the participants were females (56%) with almost half in the younger age group (18 to 20). Around 70% were from Lebanese nationality, reflecting the distribution of DOT Lebanon training participants. As for area of living of the participants, it was distributed across all governorates. Half of the respondents went to university, however, more than two-thirds were not employed. Out of total respondents, 66% had attended trainings other than DOT Lebanon training.\\nAs for knowledge of the English language, more than 90% said they had a little or good knowledge of reading English, more than 80% stated the same for reading and writing English, and most (around 80%) had access to a laptop.\\nFor the main outcome, being exposed to at least one income generation opportunity, the answers were divided almost in half Table 1 .\\nAt the bivariate level Table 2 , gender, age, governorate, undergoing other trainings, level of speaking and writing English showed a statistical significance difference between those who were exposed to at least one income generation opportunity with p-values of .008, .009, <.001. <.001, .010 and .046 respectively. Males and older age group proved to be more exposed than the other groups. Akkar, Beirut, Bekaa and the North of Lebanon were the regions that showed that the DOT Lebanon trainees were more prone to find income generation opportunities. Half of participants who were unemployed at registration were exposed to at least one income generation at baseline; however, unemployment status was not significant with the outcome (pvalue = .489). Moreover, when pooling all variables with p-values <0.2 in a logistic regression model Table 3 only gender, governorate and reading in English were the variables that showed statistical impact on the main outcome. Males were 0.4 times more likely to get exposed to an income generation opportunity, while participants who knew how to read English a little were 22.1 times more likely than those who did not know at all. Beneficiaries living in the capital Beirut were more likely to be exposed to income generation opportunities than those living in other governorates. '}, {'section_title': 'Characteristics of Participants Survey at 3-months N (%)', 'text': 'Gender Female 153 (56) '}, {'section_title': 'Discussion', 'text': ''}, {'section_title': 'Income Generation Opportunity Status', 'text': 'The results showed that 195 (72%) beneficiaries were not employed at baseline. 93 of them (48%) were exposed to at least one income generation opportunity 3 months after completing the DOT Lebanon training. Additionally, out of the 80 (28%) beneficiaries who were employed at baseline, 39 of them (49%) were exposed to at least one income generation opportunity 3 months after completing the DOT Lebanon training. When evaluating the data qualitatively, the results indicate a positive impact on beneficiaries who attended the DOT Lebanon ICT training. Even though the results were not statistically significant due to the current economic crisis the country is subject to, from a humanitarian perspective, helping almost 48% of the beneficiaries and subsequently their families secure at least one income generation opportunity in a country with one of the highest youth unemployment rates is a victory. The 2018 United Nation\"s annual report on Lebanon described the country\"s medium-term economic prospects as bleak, which is likely to adversely impact vulnerability and poverty rates (UN Lebanon Annual Report, 2018). Providing ICT basic training, which has proven to increase the chances of being exposed to income generation opportunities is one way of alleviating the heavy weight of unemployment. Furthermore, when examining the quality of public vocational training offered to vulnerable youth in Lebanon, it seems that they receive very limited and outdated competencies and practical experience (Kawar & Tzannatos, 2013) . Fresh graduates are facing digital skills gap in the workplace (Wehbe, 2016) . The increase in the number of youth who were exposed to at least one income generation opportunity 3 months after completing the DOT Lebanon training could be an indication that the newly acquired ICT skills are making vulnerable youth more employable. By closing information gaps and offering an interactive and practical ICT training, DOT Lebanon\"s training seems to enhance youth\"s ability to participate in the economic community. In fact, statistics from previous DOT Lebanon projects reports indicate that 37% of beneficiaries who had previously completed their ICT training increased their household income and 65% increased involvement with their communities. '}, {'section_title': 'Gender Inequality', 'text': 'Gender was found to be a statistically significant variable and its significance was highlighted in the overall model. The results indicate a statistical difference between males and females in their exposure to income generation opportunities after completing the DOT Lebanon ICT training. Males had better chances of being exposed to at least one income generation opportunity than females. The results are in line with Lebanon\"s male-dominated culture where women, especially those from vulnerable backgrounds, still struggle to find a suitable job. Nevertheless, efforts for training vulnerable women on ICT skills should be intensified especially that traditional axes of inequality such as gender have direct impact on widening the gender digital divide.'}, {'section_title': 'English Reading Proficiency', 'text': 'The results indicate a significant difference in the level of reading the English language. It appears that after completing the DOT Lebanon ICT training, beneficiaries who knew a little English were 22 times more likely to be exposed to at least one income generation opportunity in comparison to those who didn\"t read English at all, even when all other variables are pooled in the model. In fact, studies continue to show that primary language is among the variables associated with disparities in access to and use of technology (Fox & Livingston, 2007) and that the lack of or low proficiency in English can hinder digital literacy and digital use. These results have important implications related to improving the content of the training to intentionally include English terminology or even better, offer basic English language trainings as another training component of the DOT Lebanon ICT program.'}, {'section_title': 'Governorate Disparities', 'text': 'Beneficiaries living in the capital Beirut were more likely to be exposed to at least one income generation opportunity in comparison to those living in other governorates: Akkar, North, Baalback, Bekaa, Nabatieh, South and Mount Lebanon, even after adding all relevant variables in the regression model. Even though the capital Beirut is not the only big and busy city in Lebanon, it is still considered the biggest hub for employment and job opportunities for the country. These results were expected as the country\\'s struggle toward \"decentralization\" hinders an even development and prevents a balanced job market between the different regions of Lebanon (Democracy Reporting International (DRI), 2017; Harb & Atallah, 2015) . Consequently, ICT training should continue in all areas especially outside Beirut, creating more competitive beneficiaries with ICT skills. The aim of DOT Lebanon ICT training program is not only to instill ICT skills among its beneficiaries, but to also address the shortage of job opportunities outside the capital by creating young workers who can work remotely at a much cheaper cost. All that is needed is an internet connection and access to a laptop which, according to the results in this study, is not a hindering factor.'}, {'section_title': 'Conclusion', 'text': 'Lebanon is already among the countries with the highest youth unemployment rate in the world (Brihi et al., 2019 ) (World Bank, 2019 . The sharp upsurge in the number of individuals seeking low wage jobs (due to the Syrian refugee crisis) has increased economic competition and unskilled youth are struggling to find employment in the crowded labor market. But since nowadays digital technologies underpin effective participation in key areas of life and work (International Telecommunication Union (ITU), 2017) and are used in all types of jobs, even the ones not traditionally related to digitization e.g. farming and construction (European Commision, 2017) one way of fighting the risk of youth living in Lebanon of becoming a lost generation, is training them on ICT skills. Current dialogues on development persistently identify ICT as a requirement for economic growth and the improvement of social conditions. Technological innovation enhances human capabilities and impacts economic growth through productivity gains (Avgerou, 2003) .\\nThis research study comes to validate and quantify a number of assumptions in the Lebanese context. First, training the vulnerable youth on ICT skills can warrant an increase in exposure to income generating opportunities. Second, targeting women with ICT training is of utmost importance to reduce the gender digital divide which has already gained a foothold in the Lebanese society. Indeed, men are more likely than women to be exposed to income generating opportunities even though they were subject to the same ICT training. Third, combined with ICT skills, English proficiency is an advantage that can increase one\"s chances of acquiring income generation opportunities. Finally, there is a brewing need to create remote workers who are ICT literate and who can fulfill jobs online and from a distance, without the financial burden required when traveling to the capital Beirut.'}]\n"
     ]
    }
   ],
   "source": [
    "#Read the first publication\n",
    "import os\n",
    "import json\n",
    "from pathlib import Path\n",
    "\n",
    "train_path = Path(\"train\")\n",
    "train_tasks = os.listdir(train_path)\n",
    "\n",
    "with open(str(train_path/ train_tasks[0]), \"r\") as f:\n",
    "    pub1 = json.load(f)\n",
    "print(pub1)"
   ]
  },
  {
   "cell_type": "code",
   "execution_count": 141,
   "id": "spare-slovak",
   "metadata": {},
   "outputs": [
    {
     "name": "stdout",
     "output_type": "stream",
     "text": [
      "Abstract\n",
      "Introduction\n",
      "English and ICT\n",
      "Lebanon\n",
      "Gender Inequality in Lebanon\n",
      "Lebanon's ICT Sector\n",
      "DOT Lebanon ICT Training Program\n",
      "Methodology\n",
      "Study Design\n",
      "Study Procedure\n",
      "Data Analysis and Statistics\n",
      "Limitations\n",
      "Results\n",
      "Characteristics of Participants Survey at 3-months N (%)\n",
      "Discussion\n",
      "Income Generation Opportunity Status\n",
      "Gender Inequality\n",
      "English Reading Proficiency\n",
      "Governorate Disparities\n",
      "Conclusion\n"
     ]
    }
   ],
   "source": [
    "#Print the sections\n",
    "for i in range(len(pub1)):\n",
    "    print(pub1[i][\"section_title\"])"
   ]
  },
  {
   "cell_type": "code",
   "execution_count": null,
   "id": "grateful-anthony",
   "metadata": {},
   "outputs": [],
   "source": []
  }
 ],
 "metadata": {
  "kernelspec": {
   "display_name": "Python 3",
   "language": "python",
   "name": "python3"
  },
  "language_info": {
   "codemirror_mode": {
    "name": "ipython",
    "version": 3
   },
   "file_extension": ".py",
   "mimetype": "text/x-python",
   "name": "python",
   "nbconvert_exporter": "python",
   "pygments_lexer": "ipython3",
   "version": "3.7.1"
  }
 },
 "nbformat": 4,
 "nbformat_minor": 5
}
